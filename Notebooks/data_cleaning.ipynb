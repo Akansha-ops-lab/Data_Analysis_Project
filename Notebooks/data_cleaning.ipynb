
# Data Cleaning Code for Handling Missing Values, Outliers, and Encoding

# Import libraries
import pandas as pd
import numpy as np

# Load raw data
data = pd.read_csv("raw_data.csv")

# Handle missing values
data['Age'] = data['Age'].fillna(data['Age'].mean())
data['MonthlyCharges'] = data['MonthlyCharges'].fillna(data['MonthlyCharges'].mean())
data['Tenure'] = data['Tenure'].fillna(data['Tenure'].mean())
data['Churn'] = data['Churn'].fillna(data['Churn'].mode()[0])

# Encode categorical values
data['Churn'] = data['Churn'].map({'Yes': 1, 'No': 0})

# Save cleaned data
data.to_csv("cleaned_data.csv", index=False)
print("Data cleaning complete. Cleaned data saved.")
