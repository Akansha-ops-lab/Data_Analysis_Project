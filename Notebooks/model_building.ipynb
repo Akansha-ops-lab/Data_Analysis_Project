
# Model Building Code for Training and Evaluation

# Import libraries
import pandas as pd
from sklearn.model_selection import train_test_split
from sklearn.ensemble import RandomForestClassifier
from sklearn.metrics import accuracy_score, classification_report

# Load cleaned data
data = pd.read_csv("cleaned_data.csv")

# Define features and target
X = data[['Age', 'MonthlyCharges', 'Tenure']]
y = data['Churn']

# Split data into train and test sets
X_train, X_test, y_train, y_test = train_test_split(X, y, test_size=0.2, random_state=42)

# Train Random Forest model
model = RandomForestClassifier(random_state=42)
model.fit(X_train, y_train)

# Evaluate the model
y_pred = model.predict(X_test)
accuracy = accuracy_score(y_test, y_pred)

# Display results
print(f"Model Accuracy: {accuracy:.2f}")
print(classification_report(y_test, y_pred))
